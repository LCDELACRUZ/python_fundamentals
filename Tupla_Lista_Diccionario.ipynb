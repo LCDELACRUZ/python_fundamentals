{
  "nbformat": 4,
  "nbformat_minor": 0,
  "metadata": {
    "colab": {
      "provenance": []
    },
    "kernelspec": {
      "name": "python3",
      "display_name": "Python 3"
    },
    "language_info": {
      "name": "python"
    }
  },
  "cells": [
    {
      "cell_type": "code",
      "source": [
        "mi_tupla = (1, 'Hola', True, [4, 5, 6])\n",
        "mi_lista = list(mi_tupla)\n",
        "print(mi_lista)\n",
        "\n",
        "Mi_diccionario = {}\n",
        "for i in range(1, 5):\n",
        "    Mi_diccionario[i] = mi_lista[i - 1]\n",
        "print(Mi_diccionario)"
      ],
      "metadata": {
        "colab": {
          "base_uri": "https://localhost:8080/"
        },
        "id": "8Foc_xs9nNji",
        "outputId": "518de59f-662a-443e-d1c0-817e1be3080d"
      },
      "execution_count": 13,
      "outputs": [
        {
          "output_type": "stream",
          "name": "stdout",
          "text": [
            "[1, 'Hola', True, [4, 5, 6]]\n",
            "{1: 1, 2: 'Hola', 3: True, 4: [4, 5, 6]}\n"
          ]
        }
      ]
    }
  ]
}