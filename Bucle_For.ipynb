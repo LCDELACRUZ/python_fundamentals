{
  "nbformat": 4,
  "nbformat_minor": 0,
  "metadata": {
    "colab": {
      "provenance": []
    },
    "kernelspec": {
      "name": "python3",
      "display_name": "Python 3"
    },
    "language_info": {
      "name": "python"
    }
  },
  "cells": [
    {
      "cell_type": "code",
      "execution_count": 5,
      "metadata": {
        "colab": {
          "base_uri": "https://localhost:8080/"
        },
        "id": "8lHg34xsQeEX",
        "outputId": "6a1ec8bf-de84-441f-b64e-c777efa86d1b"
      },
      "outputs": [
        {
          "output_type": "stream",
          "name": "stdout",
          "text": [
            "Juan dijo: 42\n",
            "María dijo: 77\n",
            "Pedro dijo: 23\n",
            "Ana dijo: 11\n",
            "Carlos dijo: 95\n",
            "El número más grande es: 95\n",
            "El número más pequeño es: 11\n"
          ]
        }
      ],
      "source": [
        "\n",
        "\n",
        "# Paso 1: Crear el diccionario con nombres y números asociados\n",
        "personas = {\n",
        "    \"Juan\": 42,\n",
        "    \"María\": 77,\n",
        "    \"Pedro\": 23,\n",
        "    \"Ana\": 11,\n",
        "    \"Carlos\": 95\n",
        "}\n",
        "\n",
        "# Paso 2: Imprimir los valores del diccionario utilizando un bucle for\n",
        "for nombre, numero in personas.items():\n",
        "    print(f\"{nombre} dijo: {numero}\")\n",
        "\n",
        "# Paso 3: Encontrar el número más grande y el número más pequeño\n",
        "numero_mas_grande = max(personas.values())\n",
        "numero_mas_pequeno = min(personas.values())\n",
        "\n",
        "# Paso 4: Imprimir los números más grande y más pequeño\n",
        "print(f\"El número más grande es: {numero_mas_grande}\")\n",
        "print(f\"El número más pequeño es: {numero_mas_pequeno}\")"
      ]
    }
  ]
}