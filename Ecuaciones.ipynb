{
  "nbformat": 4,
  "nbformat_minor": 0,
  "metadata": {
    "colab": {
      "provenance": []
    },
    "kernelspec": {
      "name": "python3",
      "display_name": "Python 3"
    },
    "language_info": {
      "name": "python"
    }
  },
  "cells": [
    {
      "cell_type": "code",
      "execution_count": 5,
      "metadata": {
        "colab": {
          "base_uri": "https://localhost:8080/"
        },
        "id": "BWTs6HwAV1gM",
        "outputId": "4d2ec388-400d-4b95-b741-005e0e54939b"
      },
      "outputs": [
        {
          "output_type": "stream",
          "name": "stdout",
          "text": [
            "Tengo 12.0 años\n"
          ]
        }
      ],
      "source": [
        "#Ecuacion 1 = El doble de mi edad tiene 24 años, cuantos tengo yo?\n",
        "x=24/2\n",
        "print(f\"Tengo {x} años\")\n",
        "\n",
        "#Ecuacion 2 = A un tercio de la edad de mi hermana le disminuyo 15 años para tener la misma edad que yo. Yo tengo 6 años. Que edad tiene ella?\n",
        "mi_edad=6\n",
        "y=(mi_edad+15)*3\n",
        "print(f\"Mi hermana tiene {y} años\")\n",
        "\n",
        "#Ecuacion 3\n",
        "#compara ededades para decir quien es mayor\n",
        "if x>y:\n",
        "  print(\"soy mayor que mi hermana\")\n",
        "elif x<y:\n",
        "  print(\"mi hermana es mayor que yo\")\n",
        "else:\n",
        "  print(\"mi hermana y yo tenemos la misma edad\")"
      ]
    }
  ]
}