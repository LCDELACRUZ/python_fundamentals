{
  "nbformat": 4,
  "nbformat_minor": 0,
  "metadata": {
    "colab": {
      "provenance": []
    },
    "kernelspec": {
      "name": "python3",
      "display_name": "Python 3"
    },
    "language_info": {
      "name": "python"
    }
  },
  "cells": [
    {
      "cell_type": "code",
      "execution_count": 1,
      "metadata": {
        "colab": {
          "base_uri": "https://localhost:8080/"
        },
        "id": "5bRkaP98R37E",
        "outputId": "8c3b4b0b-d9db-4f70-b177-1123d951c867"
      },
      "outputs": [
        {
          "output_type": "stream",
          "name": "stdout",
          "text": [
            "Ingrese el primer valor: 5\n",
            "Ingrese el segundo valor: 3\n",
            "Suma: 8.0\n",
            "Resta: 2.0\n",
            "Multiplicación: 15.0\n",
            "División: 1.6666666666666667\n"
          ]
        }
      ],
      "source": [
        "class Calculadora:\n",
        "    def sumar(self, a, b):\n",
        "        return a + b\n",
        "\n",
        "    def restar(self, a, b):\n",
        "        return a - b\n",
        "\n",
        "    def multiplicar(self, a, b):\n",
        "        return a * b\n",
        "\n",
        "    def dividir(self, a, b):\n",
        "        if b == 0:\n",
        "            print(\"La respuesta de la operación de división es indefinida.\")\n",
        "            return None\n",
        "        return a / b\n",
        "\n",
        "# Crear una instancia de la calculadora\n",
        "calculadora = Calculadora()\n",
        "\n",
        "# Pedir al usuario que ingrese dos valores\n",
        "valor1 = float(input(\"Ingrese el primer valor: \"))\n",
        "valor2 = float(input(\"Ingrese el segundo valor: \"))\n",
        "\n",
        "# Realizar las operaciones con los valores ingresados\n",
        "resultado_suma = calculadora.sumar(valor1, valor2)\n",
        "resultado_resta = calculadora.restar(valor1, valor2)\n",
        "resultado_multiplicacion = calculadora.multiplicar(valor1, valor2)\n",
        "resultado_division = calculadora.dividir(valor1, valor2)\n",
        "\n",
        "# Imprimir los resultados\n",
        "print(f\"Suma: {resultado_suma}\")\n",
        "print(f\"Resta: {resultado_resta}\")\n",
        "print(f\"Multiplicación: {resultado_multiplicacion}\")\n",
        "if resultado_division is not None:\n",
        "    print(f\"División: {resultado_division}\")"
      ]
    }
  ]
}