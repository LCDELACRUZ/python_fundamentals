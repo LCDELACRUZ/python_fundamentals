{
  "nbformat": 4,
  "nbformat_minor": 0,
  "metadata": {
    "colab": {
      "provenance": []
    },
    "kernelspec": {
      "name": "python3",
      "display_name": "Python 3"
    },
    "language_info": {
      "name": "python"
    }
  },
  "cells": [
    {
      "cell_type": "code",
      "execution_count": 4,
      "metadata": {
        "colab": {
          "base_uri": "https://localhost:8080/"
        },
        "id": "qqnYWjJAOdZJ",
        "outputId": "ea3bf687-58fa-483e-f1d6-4cf20ad878c4"
      },
      "outputs": [
        {
          "output_type": "stream",
          "name": "stdout",
          "text": [
            "(2.0, 1.0)\n"
          ]
        }
      ],
      "source": [
        "# Define la variable\n",
        "def cuadratica(a, b, c):\n",
        "    # Calculamos el discriminante\n",
        "    discriminante = b**2 - 4*a*c\n",
        "\n",
        "    # Verificamos si es negativo\n",
        "    if discriminante < 0:\n",
        "        print(\"La respuesta contiene valores imaginario\")\n",
        "        return None  # Devolvemos None para indicar que no se pueden calcular las raíces reales\n",
        "\n",
        "    # Calculamos las raíces reales utilizando la fórmula cuadrática\n",
        "    x1 = (-b + discriminante**0.5) / (2*a)\n",
        "    x2 = (-b - discriminante**0.5) / (2*a)\n",
        "\n",
        "    return x1, x2\n",
        "\n",
        "# Ejemplo de uso de la función\n",
        "a = 1\n",
        "b = -3\n",
        "c = 2\n",
        "resultados = cuadratica(a, b, c)\n",
        "print(resultados)  # Debería imprimir (2.0, 1.0)"
      ]
    }
  ]
}