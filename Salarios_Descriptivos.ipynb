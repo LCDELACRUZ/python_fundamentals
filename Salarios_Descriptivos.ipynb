{
  "nbformat": 4,
  "nbformat_minor": 0,
  "metadata": {
    "colab": {
      "provenance": []
    },
    "kernelspec": {
      "name": "python3",
      "display_name": "Python 3"
    },
    "language_info": {
      "name": "python"
    }
  },
  "cells": [
    {
      "cell_type": "code",
      "execution_count": 1,
      "metadata": {
        "colab": {
          "base_uri": "https://localhost:8080/"
        },
        "id": "wvfd2VmHaJP2",
        "outputId": "4c3ac863-2fd9-4a35-f924-07c34c432669"
      },
      "outputs": [
        {
          "output_type": "stream",
          "name": "stdout",
          "text": [
            "=== Datos de los empleados ===\n",
            "   Nombre  Salario\n",
            "0    Juan    45000\n",
            "1   María    55000\n",
            "2   Pedro    60000\n",
            "3     Ana    40000\n",
            "4  Carlos    75000\n",
            "\n",
            "=== Salario más alto y más bajo ===\n",
            "Salario más alto: 75000\n",
            "Salario más bajo: 40000\n",
            "Rango de salarios: 35000\n",
            "\n",
            "=== Estadísticos descriptivos de los salarios ===\n",
            "count        5.000000\n",
            "mean     55000.000000\n",
            "std      13693.063938\n",
            "min      40000.000000\n",
            "25%      45000.000000\n",
            "50%      55000.000000\n",
            "75%      60000.000000\n",
            "max      75000.000000\n",
            "Name: Salario, dtype: float64\n"
          ]
        }
      ],
      "source": [
        "import pandas as pd\n",
        "\n",
        "# Paso 2: Transformar el diccionario en un DataFrame de pandas\n",
        "datos = {\n",
        "    \"Nombre\": [\"Juan\", \"María\", \"Pedro\", \"Ana\", \"Carlos\"],\n",
        "    \"Salario\": [45000, 55000, 60000, 40000, 75000]\n",
        "}\n",
        "\n",
        "df = pd.DataFrame(datos)\n",
        "\n",
        "# Paso 3: Identificar el salario más alto y el más bajo\n",
        "salario_maximo = df[\"Salario\"].max()\n",
        "salario_minimo = df[\"Salario\"].min()\n",
        "\n",
        "# Paso 4: Calcular el rango de los salarios\n",
        "rango_salarios = salario_maximo - salario_minimo\n",
        "\n",
        "# Paso 5: Obtener los estadísticos descriptivos de los salarios\n",
        "estadisticos_salarios = df[\"Salario\"].describe()\n",
        "\n",
        "# Paso 6: Imprimir los resultados de manera sencilla de leer para el usuario\n",
        "print(\"=== Datos de los empleados ===\")\n",
        "print(df)\n",
        "\n",
        "print(\"\\n=== Salario más alto y más bajo ===\")\n",
        "print(f\"Salario más alto: {salario_maximo}\")\n",
        "print(f\"Salario más bajo: {salario_minimo}\")\n",
        "print(f\"Rango de salarios: {rango_salarios}\")\n",
        "\n",
        "print(\"\\n=== Estadísticos descriptivos de los salarios ===\")\n",
        "print(estadisticos_salarios)"
      ]
    }
  ]
}