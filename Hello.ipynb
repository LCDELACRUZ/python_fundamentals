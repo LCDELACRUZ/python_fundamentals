{
  "nbformat": 4,
  "nbformat_minor": 0,
  "metadata": {
    "colab": {
      "provenance": []
    },
    "kernelspec": {
      "name": "python3",
      "display_name": "Python 3"
    },
    "language_info": {
      "name": "python"
    }
  },
  "cells": [
    {
      "cell_type": "code",
      "execution_count": 4,
      "metadata": {
        "colab": {
          "base_uri": "https://localhost:8080/"
        },
        "id": "44vGQZ5UhvdM",
        "outputId": "52501d20-f93c-4bcb-8889-43e2ebfbe944"
      },
      "outputs": [
        {
          "output_type": "stream",
          "name": "stdout",
          "text": [
            "Mi nombre es Luis De la Cruz\n",
            "el que persevera alcanza\n"
          ]
        }
      ],
      "source": [
        "print(\"Mi nombre es Luis De la Cruz\")\n",
        "print(\"el que persevera alcanza\")"
      ]
    }
  ]
}