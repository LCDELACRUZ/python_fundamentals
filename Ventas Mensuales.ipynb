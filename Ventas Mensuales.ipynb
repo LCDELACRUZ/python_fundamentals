{
  "nbformat": 4,
  "nbformat_minor": 0,
  "metadata": {
    "colab": {
      "provenance": []
    },
    "kernelspec": {
      "name": "python3",
      "display_name": "Python 3"
    },
    "language_info": {
      "name": "python"
    }
  },
  "cells": [
    {
      "cell_type": "code",
      "execution_count": null,
      "metadata": {
        "id": "P2kIsr5UYtth"
      },
      "outputs": [],
      "source": [
        "import numpy as np\n",
        "\n",
        "# Crear una matriz bidimensional llamada ventas_mensuales\n",
        "ventas_mensuales = np.array([\n",
        "    [100, 150, 200, 120],\n",
        "    [130, 180, 220, 90],\n",
        "    [160, 140, 190, 110],\n",
        "    [120, 170, 210, 100],\n",
        "    [140, 160, 230, 80],\n",
        "    [110, 190, 180, 130],\n",
        "    [90, 120, 210, 160],\n",
        "    [200, 140, 180, 110],\n",
        "    [170, 160, 210, 90],\n",
        "    [130, 200, 220, 120],\n",
        "    [140, 190, 200, 100],\n",
        "    [180, 130, 170, 140]\n",
        "])\n",
        "\n",
        "# Imprimir la matriz ventas_mensuales\n",
        "print(ventas_mensuales)\n",
        "# Calcular el total de ventas por producto sumando las columnas\n",
        "total_de_ventas_producto = np.sum(ventas_mensuales, axis=0)\n",
        "\n",
        "# Imprimir el total_de_ventas_producto\n",
        "print(total_de_ventas_producto)"
      ]
    }
  ]
}