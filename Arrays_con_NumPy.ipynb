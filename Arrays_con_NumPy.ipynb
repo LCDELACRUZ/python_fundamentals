{
  "nbformat": 4,
  "nbformat_minor": 0,
  "metadata": {
    "colab": {
      "provenance": []
    },
    "kernelspec": {
      "name": "python3",
      "display_name": "Python 3"
    },
    "language_info": {
      "name": "python"
    }
  },
  "cells": [
    {
      "cell_type": "code",
      "execution_count": 3,
      "metadata": {
        "colab": {
          "base_uri": "https://localhost:8080/"
        },
        "id": "Lnvi6ucET-np",
        "outputId": "e5ef7025-0e0e-4f86-8b7e-44d4fef2ca46"
      },
      "outputs": [
        {
          "output_type": "stream",
          "name": "stdout",
          "text": [
            "[[0 1 2]\n",
            " [3 4 5]\n",
            " [6 7 8]]\n",
            "[[1. 0. 0. 0. 0. 0.]\n",
            " [0. 1. 0. 0. 0. 0.]\n",
            " [0. 0. 1. 0. 0. 0.]\n",
            " [0. 0. 0. 1. 0. 0.]\n",
            " [0. 0. 0. 0. 1. 0.]\n",
            " [0. 0. 0. 0. 0. 1.]]\n"
          ]
        }
      ],
      "source": [
        "import numpy as np\n",
        "# Crear una matriz bidimensional 3x3\n",
        "matriz_3x3 = np.arange(9).reshape(3, 3)\n",
        "# Imprime la matriz \"matriz_3x3\" para verificar su contenido.\n",
        "print(matriz_3x3)\n",
        "# Crear una matriz identidad de 6x6\n",
        "matriz_identidad = np.identity(6)\n",
        "# Imprimir la matriz identidad\n",
        "print(matriz_identidad)\n"
      ]
    }
  ]
}