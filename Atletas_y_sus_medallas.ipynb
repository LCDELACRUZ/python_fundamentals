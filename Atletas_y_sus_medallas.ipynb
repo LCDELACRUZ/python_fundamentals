{
  "nbformat": 4,
  "nbformat_minor": 0,
  "metadata": {
    "colab": {
      "provenance": []
    },
    "kernelspec": {
      "name": "python3",
      "display_name": "Python 3"
    },
    "language_info": {
      "name": "python"
    }
  },
  "cells": [
    {
      "cell_type": "code",
      "execution_count": null,
      "metadata": {
        "id": "e_s4n9M9gz2K"
      },
      "outputs": [],
      "source": [
        "# Primero importamos pandas como pd\n",
        "import pandas as pd\n",
        "# Ahora, leamos el archivo con el que vamos a trabajar\n",
        "df = pd.read_csv(\"athlete_events.csv\")\n",
        "print(df.head())\n",
        "\n",
        "# Como podemos ver, hay algunos valores que se encuentran NaN en la columna de medallas, así que habrá que quitarlos\n",
        "df_not_nan = df[df.Medal.notnull()]\n",
        "print(df_not_nan.head())\n",
        "\n",
        "# Genial, ahora que hemos limpiado la columna de medallas, habrá que encontrar a aquel que tiene la edad más grande\n",
        "index = df_not_nan[\"Age\"].idxmax()\n",
        "\n",
        "# Ahora, utilicemos .iloc[] para encontrar al atleta con base en el índice\n",
        "print(df_not_nan.iloc[index])\n",
        "\n",
        "# Ahora, filtramos los datos para quedarnos solo con aquellos registros que tienen medalla de oro\n",
        "df_oro = df[df[“Medal”] == “Gold”]\n",
        "\n",
        "# Usemos ahora .idxmin() para encontrar el índice del atleta con medalla de oro más joven\n",
        "index_2 = df_oro[“Age”].idxmin()\n",
        "\n",
        "# Utilicemos .iloc[] para encontrar al atleta\n",
        "print(df_oro.iloc[index_2])\n",
        "\n",
        "# Encontremos ahora al atleta más condecorado de la historia, usaremos el DataFrame sin NaN en la columna de medallas, y usamos .value_counts() y .idxmax() para encontrar a este atleta\n",
        "mas_medallas = df_not_nan[\"Name\"].value_counts().idxmax()\n",
        "\n",
        "# Imprimamos para ver quien es este atleta\n",
        "print(mas_medallas)\n",
        "\n",
        "# Filtremos el Dataframe inicial para dejar solo los registros de todas las ocasiones en que Michael Phelps ha participado\n",
        "Phelps = df[df[“Name”] == mas_medallas]\n",
        "\n",
        "# Creemos el nuevo CSV usando la información que encontramos con .to_csv()\n",
        "phelps.to_csv(“phelps.csv”)\n",
        "\n",
        "# Asombroso!\n",
        "\n"
      ]
    },
    {
      "cell_type": "markdown",
      "source": [
        "# Sección nueva"
      ],
      "metadata": {
        "id": "PIAbwIdRjCOJ"
      }
    }
  ]
}